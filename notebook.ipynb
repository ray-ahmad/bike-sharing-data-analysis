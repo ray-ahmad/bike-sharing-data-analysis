{
  "cells": [
    {
      "cell_type": "markdown",
      "metadata": {
        "id": "H9wADwK78DCz"
      },
      "source": [
        "# Proyek Analisis Data: Bike Sharing Dataset\n",
        "- **Nama:** Rayhan Ahmad Rizalullah\n",
        "- **Email:** ray.ahmdr@gmail.com\n",
        "- **ID Dicoding:** rayhanahmadr"
      ]
    },
    {
      "cell_type": "markdown",
      "metadata": {
        "id": "eE0raob58DC0"
      },
      "source": [
        "## Menentukan Pertanyaan Bisnis"
      ]
    },
    {
      "cell_type": "markdown",
      "metadata": {
        "id": "GmQeQ5YF8DC0"
      },
      "source": [
        "1. Apa hari dengan penyewa casual terbanyak?\n",
        "2. Apa musim dengan penyewa sepeda paling sedikit?\n",
        "3. Bagaimana tren peminjaman sepeda berubah sepanjang hari dari pagi hingga malam?"
      ]
    },
    {
      "cell_type": "markdown",
      "metadata": {
        "id": "H-z4QGlO8DC1"
      },
      "source": [
        "## Import Semua Packages/Library yang Digunakan"
      ]
    },
    {
      "cell_type": "code",
      "execution_count": null,
      "metadata": {
        "id": "FVYwaObI8DC1"
      },
      "outputs": [],
      "source": [
        "import numpy as np\n",
        "import pandas as pd\n",
        "import matplotlib.pyplot as plt\n",
        "import seaborn as sns\n",
        "import streamlit as st\n",
        "\n",
        "sns.set_theme(style='dark')"
      ]
    },
    {
      "cell_type": "markdown",
      "metadata": {
        "id": "h_Sh51Xy8DC1"
      },
      "source": [
        "## Data Wrangling"
      ]
    },
    {
      "cell_type": "markdown",
      "metadata": {
        "id": "sXU2GBYu8DC1"
      },
      "source": [
        "### Gathering Data"
      ]
    },
    {
      "cell_type": "markdown",
      "metadata": {},
      "source": [
        "Mambaca day.csv dan hour.csv"
      ]
    },
    {
      "cell_type": "code",
      "execution_count": null,
      "metadata": {
        "id": "zjCBk1BI8DC1"
      },
      "outputs": [],
      "source": [
        "day_df = pd.read_csv(\"./data/day.csv\")\n",
        "day_df.head()"
      ]
    },
    {
      "cell_type": "code",
      "execution_count": null,
      "metadata": {},
      "outputs": [],
      "source": [
        "hour_df = pd.read_csv(\"./data/hour.csv\")\n",
        "hour_df.head()"
      ]
    },
    {
      "cell_type": "markdown",
      "metadata": {
        "id": "FHSiqaZp8DC1"
      },
      "source": [
        "### Assessing Data"
      ]
    },
    {
      "cell_type": "markdown",
      "metadata": {},
      "source": [
        "#### Menilai Data day_df"
      ]
    },
    {
      "cell_type": "code",
      "execution_count": null,
      "metadata": {
        "id": "ax-3tEjc9Cj1"
      },
      "outputs": [],
      "source": [
        "day_df.info()"
      ]
    },
    {
      "cell_type": "markdown",
      "metadata": {},
      "source": [
        "Periksa apakah ada value yang null"
      ]
    },
    {
      "cell_type": "code",
      "execution_count": null,
      "metadata": {},
      "outputs": [],
      "source": [
        "day_df.isna().sum()"
      ]
    },
    {
      "cell_type": "markdown",
      "metadata": {},
      "source": [
        "Periksa jumlah data yang duplikat"
      ]
    },
    {
      "cell_type": "code",
      "execution_count": null,
      "metadata": {},
      "outputs": [],
      "source": [
        "print(\"Jumlah duplikasi data: \", day_df.duplicated().sum())"
      ]
    },
    {
      "cell_type": "code",
      "execution_count": null,
      "metadata": {},
      "outputs": [],
      "source": [
        "day_df.describe()"
      ]
    },
    {
      "cell_type": "markdown",
      "metadata": {},
      "source": [
        "#### Menilai Data hour_df"
      ]
    },
    {
      "cell_type": "code",
      "execution_count": null,
      "metadata": {},
      "outputs": [],
      "source": [
        "hour_df.info()"
      ]
    },
    {
      "cell_type": "markdown",
      "metadata": {},
      "source": [
        "Periksa apakah ada value yang null"
      ]
    },
    {
      "cell_type": "code",
      "execution_count": null,
      "metadata": {},
      "outputs": [],
      "source": [
        "hour_df.isna().sum()"
      ]
    },
    {
      "cell_type": "markdown",
      "metadata": {},
      "source": [
        "Periksa jumlah data yang duplikat"
      ]
    },
    {
      "cell_type": "code",
      "execution_count": null,
      "metadata": {},
      "outputs": [],
      "source": [
        "print(\"Jumlah duplikasi data: \", hour_df.duplicated().sum())"
      ]
    },
    {
      "cell_type": "code",
      "execution_count": null,
      "metadata": {},
      "outputs": [],
      "source": [
        "hour_df.describe()"
      ]
    },
    {
      "cell_type": "markdown",
      "metadata": {
        "id": "EhN5R4hr8DC1"
      },
      "source": [
        "### Cleaning Data"
      ]
    },
    {
      "cell_type": "markdown",
      "metadata": {},
      "source": [
        "Mengubah Dtype kolom \"dteday\" dari object menjadi datetime pada dataframe day_df dan hour_df"
      ]
    },
    {
      "cell_type": "code",
      "execution_count": null,
      "metadata": {
        "id": "jVnYpprE9Evz"
      },
      "outputs": [],
      "source": [
        "day_df['dteday'] = pd.to_datetime(day_df['dteday'])\n",
        "hour_df['dteday'] = pd.to_datetime(hour_df['dteday'])"
      ]
    },
    {
      "cell_type": "markdown",
      "metadata": {
        "id": "gp-Y6wU38DC1"
      },
      "source": [
        "## Exploratory Data Analysis (EDA)"
      ]
    },
    {
      "cell_type": "markdown",
      "metadata": {
        "id": "MW7WF2kr8DC1"
      },
      "source": [
        "### Eksplorasi DataFrame day_df dan hour_df"
      ]
    },
    {
      "cell_type": "code",
      "execution_count": null,
      "metadata": {
        "id": "e9CQCZjk8DC2"
      },
      "outputs": [],
      "source": [
        "day_df.describe(include=\"all\")"
      ]
    },
    {
      "cell_type": "markdown",
      "metadata": {},
      "source": [
        "#### Berdasarkan hari:"
      ]
    },
    {
      "cell_type": "code",
      "execution_count": null,
      "metadata": {},
      "outputs": [],
      "source": [
        "day_df.groupby(by=[\"weekday\"]).agg({\n",
        "    \"casual\":\"mean\",\n",
        "    \"registered\":\"mean\",\n",
        "})"
      ]
    },
    {
      "cell_type": "markdown",
      "metadata": {},
      "source": [
        "#### Berdasarkan musim:"
      ]
    },
    {
      "cell_type": "code",
      "execution_count": null,
      "metadata": {},
      "outputs": [],
      "source": [
        "# Membuat kamus untuk memetakan angka musim ke label yang sesuai\n",
        "nama_musim = {\n",
        "    1: 'Musim Semi',\n",
        "    2: 'Musim Panas',\n",
        "    3: 'Musim Gugur',\n",
        "    4: 'Musim Dingin'\n",
        "}\n",
        "\n",
        "# Menghitung rata-rata jumlah peminjaman sepeda berdasarkan musim\n",
        "mean_cnt_per_season = day_df.groupby(by=\"season\").cnt.mean()\n",
        "\n",
        "# Mengganti indeks angka musim dengan label musim yang sesuai\n",
        "mean_cnt_per_season.index = mean_cnt_per_season.index.map(nama_musim)\n",
        "\n",
        "# Menampilkan hasil\n",
        "print(mean_cnt_per_season)"
      ]
    },
    {
      "cell_type": "markdown",
      "metadata": {},
      "source": [
        "#### Berdasarkan periode waktu:"
      ]
    },
    {
      "cell_type": "code",
      "execution_count": null,
      "metadata": {},
      "outputs": [],
      "source": [
        "# Membuat fungsi untuk mengkategorikan waktu\n",
        "def categorize_time(hour):\n",
        "    if hour >= 5 and hour < 11:\n",
        "        return \"Pagi\"\n",
        "    elif hour >= 11 and hour < 15:\n",
        "        return \"Siang\"\n",
        "    elif hour >= 15 and hour < 18:\n",
        "        return \"Sore\"\n",
        "    else:\n",
        "        return \"Malam\"\n",
        "\n",
        "# Menambahkan kolom \"time_category\" yang berisi kategori waktu\n",
        "hour_df['time_category'] = hour_df['hr'].apply(categorize_time)\n",
        "\n",
        "# Melakukan groupby berdasarkan kategori waktu dan menghitung jumlah peminjaman sepeda\n",
        "time_category_counts = hour_df.groupby('time_category')['cnt'].mean()\n",
        "\n",
        "# Menampilkan hasil\n",
        "time_category_counts\n"
      ]
    },
    {
      "cell_type": "markdown",
      "metadata": {
        "id": "zsyZjqak8DC2"
      },
      "source": [
        "## Visualization & Explanatory Analysis"
      ]
    },
    {
      "cell_type": "markdown",
      "metadata": {
        "id": "HZxOiQ6n8DC2"
      },
      "source": [
        "### Pertanyaan 1: Apa hari dengan penyewa casual terbanyak?"
      ]
    },
    {
      "cell_type": "markdown",
      "metadata": {},
      "source": [
        "Untuk menjawab pertanyaan ini, akan dibuat stacked bar chart antara penyewa registered dengan casual."
      ]
    },
    {
      "cell_type": "code",
      "execution_count": null,
      "metadata": {},
      "outputs": [],
      "source": [
        "nama_hari = {\n",
        "    0: 'Minggu',\n",
        "    1: 'Senin',\n",
        "    2: 'Selasa',\n",
        "    3: 'Rabu',\n",
        "    4: 'Kamis',\n",
        "    5: 'Jumat',\n",
        "    6: 'Sabtu'\n",
        "}\n",
        "\n",
        "group_weekday = day_df.groupby(by=\"weekday\")\n",
        "days = group_weekday.weekday.first().tolist()\n",
        "\n",
        "registered_counts = group_weekday.registered.sum().tolist()\n",
        "casual_counts = group_weekday.casual.sum().tolist()\n",
        "\n",
        "# Membuat stacked bar chart\n",
        "plt.bar([nama_hari[day] for day in days], casual_counts, label='Casual', color='r')\n",
        "plt.bar([nama_hari[day] for day in days], registered_counts, bottom=casual_counts, label='Registered', color='b')\n",
        "\n",
        "plt.xlabel('Hari')\n",
        "plt.ylabel('Jumlah')\n",
        "plt.title('Stacked Bar Chart Peminjaman Sepeda per Hari dan Jenis Pengguna')\n",
        "plt.legend(loc='lower right')\n",
        "\n",
        "plt.show()\n"
      ]
    },
    {
      "cell_type": "markdown",
      "metadata": {},
      "source": [
        "Dibandingkan hari-hari lainnya, hari Sabtu dan Minggu memiliki penyewa casual lebih banyak dan penyewa registered lebih sedikit."
      ]
    },
    {
      "cell_type": "markdown",
      "metadata": {
        "id": "DgHI7CiU8DC2"
      },
      "source": [
        "### Pertanyaan 2: Apa musim dengan penyewa sepeda paling sedikit?"
      ]
    },
    {
      "cell_type": "markdown",
      "metadata": {},
      "source": [
        "Untuk menjawab pertanyaan ini, akan dibuat pie chart untuk masing-masing musim"
      ]
    },
    {
      "cell_type": "code",
      "execution_count": null,
      "metadata": {
        "id": "Go0lCsvO8DC2"
      },
      "outputs": [],
      "source": [
        "# Data yang akan diplot\n",
        "labels = mean_cnt_per_season.index\n",
        "sizes = mean_cnt_per_season.values\n",
        "colors = ['lightsalmon', 'lightcoral', 'lightgreen','lightblue']\n",
        "\n",
        "# Membuat pie chart\n",
        "plt.pie(sizes, labels=labels, colors=colors, autopct='%1.2f%%', startangle=140)\n",
        "\n",
        "# Menambahkan judul\n",
        "plt.title('Persentase Peminjaman Sepeda berdasarkan Musim')\n",
        "\n",
        "# Menampilkan pie chart\n",
        "plt.show()"
      ]
    },
    {
      "cell_type": "markdown",
      "metadata": {},
      "source": [
        "- Musim gugur menjadi musim dengan penyewa sepeda paling banyak,\n",
        "- Sedangkan, musim semi menjadi musim penyewa dengan sepeda paling sedikit."
      ]
    },
    {
      "cell_type": "markdown",
      "metadata": {},
      "source": [
        "### Pertanyaan 3: Bagaimana tren peminjaman sepeda berubah sepanjang hari dari pagi hingga malam?"
      ]
    },
    {
      "cell_type": "markdown",
      "metadata": {},
      "source": [
        "Untuk menjawab pertanyaan ini, akan dibuat line chart untuk masing-masing musim"
      ]
    },
    {
      "cell_type": "code",
      "execution_count": null,
      "metadata": {},
      "outputs": [],
      "source": [
        "plt.plot(time_category_counts.index, time_category_counts.values, marker='o')\n",
        "\n",
        "# Menambahkan label dan judul\n",
        "plt.xlabel('Waktu')\n",
        "plt.ylabel('Rata-rata Peminjaman Sepeda')\n",
        "plt.title('Tren Peminjaman Sepeda per Waktu')\n",
        "\n",
        "# Menampilkan grid\n",
        "plt.grid(True)\n",
        "\n",
        "# Menampilkan line chart\n",
        "plt.show()\n"
      ]
    },
    {
      "cell_type": "markdown",
      "metadata": {},
      "source": [
        "Tren penyewa sepeda sepanjang hari meningkat, dengan puncaknya pada sore hari."
      ]
    },
    {
      "cell_type": "markdown",
      "metadata": {
        "id": "_WeHlCeX8DC2"
      },
      "source": [
        "## Conclusion"
      ]
    },
    {
      "cell_type": "markdown",
      "metadata": {
        "id": "ZTcyR48Y8DC2"
      },
      "source": [
        "1.  Apa hari dengan penyewa casual terbanyak?\n",
        "\n",
        "    Berdasarkan stacked bar chart di atas, hari Sabtu dan Minggu memiliki jumlah penyewa casual yang paling tinggi dibandingkan dengan hari-hari lainnya. Oleh karena itu, strategi pemasaran dan promosi yang tepat dapat diimplementasikan untuk meningkatkan jumlah penyewa terdaftar pada hari-hari ini. Misalnya, dengan memberikan diskon khusus bagi penyewa terdaftar pada akhir pekan, mengadakan acara khusus atau tur bagi anggota terdaftar pada hari Sabtu atau Minggu, atau menyediakan penawaran paket langganan yang menarik untuk mendorong lebih banyak orang untuk mendaftar sebagai anggota tetap.\n",
        "\n",
        "2.  Apa musim dengan penyewa sepeda paling sedikit?\n",
        "\n",
        "    Berdasarkan pie chart di atas, musim semi adalah musim yang mempunyai jumlah penyewa sepeda yang paling sedikit dibandingkan musim lain. Oleh karena itu, kampanye promosi dan pemasaran dapat dilakukan pada musim ini dengan fokus pada memperkenalkan penawaran khusus, diskon, atau paket promosi untuk menarik lebih banyak pelanggan. Misalnya, penawaran diskon spesial atau program referensi teman (referral) kepada pelanggan yang menyewa sepeda selama musim semi, atau mengadakan acara-acara promosi khusus yang berorientasi pada musim semi seperti tur bersepeda atau festival sepeda.\n",
        "\n",
        "3.  Bagaimana tren peminjaman sepeda berubah sepanjang hari dari pagi hingga malam?\n",
        "\n",
        "    Tren peminjaman sepeda cenderung meningkat sepanjang hari dengan puncaknya terjadi pada sore hari, seperti yang terlihat pada line chart di atas. Hal ini menunjukkan bahwa seiring berjalannya waktu dari pagi hingga malam, jumlah peminjaman sepeda secara umum mengalami peningkatan. Pada pagi hari, jumlah peminjaman sepeda masih relatif rendah, kemudian mulai meningkat secara signifikan saat siang dan mencapai puncaknya pada sore hari. Setelah sore hari, jumlah peminjaman sepeda cenderung mulai menurun menjelang malam hari. Hal ini mungkin disebabkan oleh perubahan aktivitas dan pola perjalanan pengguna, seperti perjalanan pulang kerja atau kegiatan rekreasi sore hari."
      ]
    }
  ],
  "metadata": {
    "colab": {
      "provenance": []
    },
    "kernelspec": {
      "display_name": "Python 3",
      "language": "python",
      "name": "python3"
    },
    "language_info": {
      "codemirror_mode": {
        "name": "ipython",
        "version": 3
      },
      "file_extension": ".py",
      "mimetype": "text/x-python",
      "name": "python",
      "nbconvert_exporter": "python",
      "pygments_lexer": "ipython3",
      "version": "3.11.3"
    },
    "orig_nbformat": 4,
    "vscode": {
      "interpreter": {
        "hash": "972b3bf27e332e87b5379f2791f6ef9dfc79c71018c370b0d7423235e20fe4d7"
      }
    }
  },
  "nbformat": 4,
  "nbformat_minor": 0
}
